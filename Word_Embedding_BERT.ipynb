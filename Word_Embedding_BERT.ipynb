{
  "nbformat": 4,
  "nbformat_minor": 0,
  "metadata": {
    "colab": {
      "name": "Word Embedding BERT.ipynb",
      "provenance": []
    },
    "kernelspec": {
      "name": "python3",
      "display_name": "Python 3"
    }
  },
  "cells": [
    {
      "cell_type": "markdown",
      "metadata": {
        "button": false,
        "colab_type": "text",
        "id": "QfSFVOaKvlDb",
        "new_sheet": false,
        "run_control": {
          "read_only": false
        }
      },
      "source": [
        "# BERT and Word Sense Disambiguation"
      ]
    },
    {
      "cell_type": "markdown",
      "metadata": {
        "colab_type": "text",
        "id": "QBsBGPfYXK_b"
      },
      "source": [
        "In computational linguistics, word-sense disambiguation (WSD) is an open problem concerned with identifying which sense of a word is used in a sentence. Imagine a bank of water, or a bank which accepts deposits. You can distinguish these two \"banks\" easily because you understand the context of the sentence which is used for it. What if we want to distinguish senses of a word automatically? You have learned about word embeddings and W2V from the [first assignment](https://iust-deep-learning.github.io/981/assignments/01_mlp_and_preprocessing). W2V extracts a unique vector that is a representation of that word. That is sufficiant we are going distinguish between two different words, such as \"Hi\" and \"Bye\"; but we cannot purely depend on it when we want to distinguish between a specific word with several senses.\n",
        "\n",
        "Researchers have developed several methods for tackling this issue. One of these techniques named DeConf is proposed by your professor, Dr. Pilehvar. He tackled this problem by de-conflating the representations of words based on the deep knowledge it derives from a semantic network. You can read the complete paper [here](https://arxiv.org/abs/1608.01961). Besides, A full survey about WSD is available [here](https://www.researchgate.net/publication/220566219_Word_Sense_Disambiguation_A_Survey).\n",
        "\n",
        "In this task, we are going to distinguish between two senses of the word (noun) \"bat\" using [BERT](https://arxiv.org/abs/1810.04805). BERT is a context-aware language representation model that can produce different vectors for a specific word according to the context of the sentence.\n",
        "\n",
        "According to [Cambridge dictionary](https://dictionary.cambridge.org/dictionary/english/bat), \"bat\" has two meanings:\n",
        "1. A specially shaped piece of wood used for hitting the ball in some games (cricket bat)\n",
        "\n",
        "2. A small animal like a mouse with wings that flies at night (mammal bat)\n",
        "\n"
      ]
    },
    {
      "cell_type": "markdown",
      "metadata": {
        "colab_type": "text",
        "id": "YJnVfh33_gl0"
      },
      "source": [
        "We use two simple datasets for our task. First, cricketbat.txt, which contains few sentences referring to bat used in cricket sport, and second, vampirebat.txt, which contains few sentences referring to the mammal bird bat. These datasets are available in [this](https://github.com/omkar-dsd/mini_projects/tree/master/word_sense_disambiuation) repository, which is used for another WSD approach using [Wordnet](https://wordnet.princeton.edu/). The full explanation of WSD using this method is available [here](https://towardsdatascience.com/a-simple-word-sense-disambiguation-application-3ca645c56357)."
      ]
    },
    {
      "cell_type": "code",
      "metadata": {
        "colab_type": "code",
        "id": "6I_xqKnD_ctX",
        "outputId": "cf0e2ee9-cd97-4aa0-dce9-23b0292085f4",
        "colab": {
          "base_uri": "https://localhost:8080/",
          "height": 83
        }
      },
      "source": [
        "!git clone https://github.com/omkar-dsd/mini_projects.git\n",
        "\n",
        "# Download and load the datasets here. Then, separate and lower the sentences and insert them in a list."
      ],
      "execution_count": 0,
      "outputs": [
        {
          "output_type": "stream",
          "text": [
            "Cloning into 'mini_projects'...\n",
            "remote: Enumerating objects: 19, done.\u001b[K\n",
            "remote: Total 19 (delta 0), reused 0 (delta 0), pack-reused 19\u001b[K\n",
            "Unpacking objects: 100% (19/19), done.\n"
          ],
          "name": "stdout"
        }
      ]
    },
    {
      "cell_type": "code",
      "metadata": {
        "id": "eTHW7L8iKDW6",
        "colab_type": "code",
        "colab": {}
      },
      "source": [
        "cricket_bat = open('/content/mini_projects/word_sense_disambiuation/cricketbat.txt').readlines()\n",
        "vampire_bat = open('/content/mini_projects/word_sense_disambiuation/vampirebat.txt').readlines()\n",
        "cricket_bat = list(map(str.lower,cricket_bat))\n",
        "vampire_bat = list(map(str.lower,vampire_bat))\n"
      ],
      "execution_count": 0,
      "outputs": []
    },
    {
      "cell_type": "markdown",
      "metadata": {
        "colab_type": "text",
        "id": "HbDyDZTGAO9r"
      },
      "source": [
        "Now, we use BERT to encode words of these datasets. You can use [this](https://github.com/hanxiao/bert-as-service) repository to extract word embeddings of the sentences. Use BERT-Base, Uncased as your pre-trained BERT model. Then, insert the vectors of all words with root \"bat\" in another list for each dataset."
      ]
    },
    {
      "cell_type": "code",
      "metadata": {
        "id": "IkW1yUGJtYq2",
        "colab_type": "code",
        "outputId": "8267ab5d-5e36-43b1-b98d-023b1454fd13",
        "colab": {
          "base_uri": "https://localhost:8080/",
          "height": 988
        }
      },
      "source": [
        "!pip install bert-serving-server  # server\n",
        "!pip install bert-serving-client\n",
        "!wget https://storage.googleapis.com/bert_models/2019_05_30/wwm_uncased_L-24_H-1024_A-16.zip\n",
        "!unzip wwm_uncased_L-24_H-1024_A-16.zip\n",
        "!ls"
      ],
      "execution_count": 0,
      "outputs": [
        {
          "output_type": "stream",
          "text": [
            "Collecting bert-serving-server\n",
            "\u001b[?25l  Downloading https://files.pythonhosted.org/packages/b0/bd/cab677bbd0c5fb08b72e468371d2bca6ed9507785739b4656b0b5470d90b/bert_serving_server-1.10.0-py3-none-any.whl (61kB)\n",
            "\r\u001b[K     |█████▎                          | 10kB 24.0MB/s eta 0:00:01\r\u001b[K     |██████████▋                     | 20kB 15.9MB/s eta 0:00:01\r\u001b[K     |████████████████                | 30kB 12.0MB/s eta 0:00:01\r\u001b[K     |█████████████████████▎          | 40kB 12.7MB/s eta 0:00:01\r\u001b[K     |██████████████████████████▋     | 51kB 11.4MB/s eta 0:00:01\r\u001b[K     |███████████████████████████████▉| 61kB 11.9MB/s eta 0:00:01\r\u001b[K     |████████████████████████████████| 71kB 6.9MB/s \n",
            "\u001b[?25hCollecting GPUtil>=1.3.0\n",
            "  Downloading https://files.pythonhosted.org/packages/ed/0e/5c61eedde9f6c87713e89d794f01e378cfd9565847d4576fa627d758c554/GPUtil-1.4.0.tar.gz\n",
            "Requirement already satisfied: termcolor>=1.1 in /usr/local/lib/python3.6/dist-packages (from bert-serving-server) (1.1.0)\n",
            "Requirement already satisfied: six in /usr/local/lib/python3.6/dist-packages (from bert-serving-server) (1.12.0)\n",
            "Collecting pyzmq>=17.1.0\n",
            "\u001b[?25l  Downloading https://files.pythonhosted.org/packages/94/07/cee3d328a2e13f9de1c2b62cced7a389b61ac81424f2e377f3dc9d668282/pyzmq-18.1.1-cp36-cp36m-manylinux1_x86_64.whl (1.1MB)\n",
            "\u001b[K     |████████████████████████████████| 1.1MB 33.9MB/s \n",
            "\u001b[?25hRequirement already satisfied: numpy in /usr/local/lib/python3.6/dist-packages (from bert-serving-server) (1.17.4)\n",
            "Building wheels for collected packages: GPUtil\n",
            "  Building wheel for GPUtil (setup.py) ... \u001b[?25l\u001b[?25hdone\n",
            "  Created wheel for GPUtil: filename=GPUtil-1.4.0-cp36-none-any.whl size=7410 sha256=969fe84ee64d24fb500d7b7e68c1bb486bcd3b6e3ed89df5c0cbd40d0d5ab9ef\n",
            "  Stored in directory: /root/.cache/pip/wheels/3d/77/07/80562de4bb0786e5ea186911a2c831fdd0018bda69beab71fd\n",
            "Successfully built GPUtil\n",
            "Installing collected packages: GPUtil, pyzmq, bert-serving-server\n",
            "  Found existing installation: pyzmq 17.0.0\n",
            "    Uninstalling pyzmq-17.0.0:\n",
            "      Successfully uninstalled pyzmq-17.0.0\n",
            "Successfully installed GPUtil-1.4.0 bert-serving-server-1.10.0 pyzmq-18.1.1\n"
          ],
          "name": "stdout"
        },
        {
          "output_type": "display_data",
          "data": {
            "application/vnd.colab-display-data+json": {
              "pip_warning": {
                "packages": [
                  "zmq"
                ]
              }
            }
          },
          "metadata": {
            "tags": []
          }
        },
        {
          "output_type": "stream",
          "text": [
            "Collecting bert-serving-client\n",
            "  Downloading https://files.pythonhosted.org/packages/1f/09/aae1405378a848b2e87769ad89a43d6d71978c4e15534ca48e82e723a72f/bert_serving_client-1.10.0-py2.py3-none-any.whl\n",
            "Requirement already satisfied: pyzmq>=17.1.0 in /usr/local/lib/python3.6/dist-packages (from bert-serving-client) (18.1.1)\n",
            "Requirement already satisfied: numpy in /usr/local/lib/python3.6/dist-packages (from bert-serving-client) (1.17.4)\n",
            "Installing collected packages: bert-serving-client\n",
            "Successfully installed bert-serving-client-1.10.0\n",
            "--2019-12-29 10:28:24--  https://storage.googleapis.com/bert_models/2019_05_30/wwm_uncased_L-24_H-1024_A-16.zip\n",
            "Resolving storage.googleapis.com (storage.googleapis.com)... 74.125.24.128, 2404:6800:4003:c04::80\n",
            "Connecting to storage.googleapis.com (storage.googleapis.com)|74.125.24.128|:443... connected.\n",
            "HTTP request sent, awaiting response... 200 OK\n",
            "Length: 1248381879 (1.2G) [application/zip]\n",
            "Saving to: ‘wwm_uncased_L-24_H-1024_A-16.zip’\n",
            "\n",
            "wwm_uncased_L-24_H- 100%[===================>]   1.16G  67.6MB/s    in 20s     \n",
            "\n",
            "2019-12-29 10:28:45 (58.9 MB/s) - ‘wwm_uncased_L-24_H-1024_A-16.zip’ saved [1248381879/1248381879]\n",
            "\n",
            "Archive:  wwm_uncased_L-24_H-1024_A-16.zip\n",
            "   creating: wwm_uncased_L-24_H-1024_A-16/\n",
            "  inflating: wwm_uncased_L-24_H-1024_A-16/bert_model.ckpt.meta  \n",
            "  inflating: wwm_uncased_L-24_H-1024_A-16/bert_model.ckpt.data-00000-of-00001  \n",
            "  inflating: wwm_uncased_L-24_H-1024_A-16/vocab.txt  \n",
            "  inflating: wwm_uncased_L-24_H-1024_A-16/bert_model.ckpt.index  \n",
            "  inflating: wwm_uncased_L-24_H-1024_A-16/bert_config.json  \n",
            "_about.txt  fa.txt\t mini_projects\tsample_data\n",
            "asg03\t    fra-eng.zip  model.png\twwm_uncased_L-24_H-1024_A-16\n",
            "downloads   fra.txt\t s2s.h5\t\twwm_uncased_L-24_H-1024_A-16.zip\n"
          ],
          "name": "stdout"
        }
      ]
    },
    {
      "cell_type": "code",
      "metadata": {
        "id": "NJvs0bTWNpUY",
        "colab_type": "code",
        "outputId": "7feabbc2-d151-47e1-e956-e8a43e412211",
        "colab": {
          "base_uri": "https://localhost:8080/",
          "height": 67
        }
      },
      "source": [
        "# !unzip ./cased_L-24_H-1024_A-16.zip.3\n",
        "# !htop\n",
        "!ls"
      ],
      "execution_count": 0,
      "outputs": [
        {
          "output_type": "stream",
          "text": [
            "_about.txt  fa.txt\t mini_projects\tsample_data\n",
            "asg03\t    fra-eng.zip  model.png\twwm_uncased_L-24_H-1024_A-16\n",
            "downloads   fra.txt\t s2s.h5\t\twwm_uncased_L-24_H-1024_A-16.zip\n"
          ],
          "name": "stdout"
        }
      ]
    },
    {
      "cell_type": "code",
      "metadata": {
        "id": "PXUkKtqZtoAx",
        "colab_type": "code",
        "colab": {}
      },
      "source": [
        "# !bert-serving-start  -model_dir=./cased_L-24_H-1024_A-16 > out.file 2>&1 &\n",
        "# !nohup bert-serving-start -pooling_strategy NONE -max_seq_len=1000 -model_dir=./cased_L-24_H-1024_A-16  > out.file 2>&1 & \n",
        "\n",
        "!nohup bert-serving-start  -pooling_strategy NONE -show_tokens_to_client -max_seq_len NONE  -model_dir=./wwm_uncased_L-24_H-1024_A-16 > out.file 2>&1 &\n",
        "# !nohup bert-serving-start -model_dir=./cased_L-24_H-1024_A-16 > out.file 2>&1 &\n",
        "\n"
      ],
      "execution_count": 0,
      "outputs": []
    },
    {
      "cell_type": "code",
      "metadata": {
        "id": "-iRDLNEi8PLb",
        "colab_type": "code",
        "outputId": "35b70607-557e-49c3-f8ce-b505a0f1ade9",
        "colab": {
          "base_uri": "https://localhost:8080/",
          "height": 117
        }
      },
      "source": [
        "!ls\n",
        "!kill bert-serving-start"
      ],
      "execution_count": 0,
      "outputs": [
        {
          "output_type": "stream",
          "text": [
            "_about.txt   fra.txt\t    sample_data\n",
            "asg03\t     mini_projects  wwm_uncased_L-24_H-1024_A-16\n",
            "downloads    model.png\t    wwm_uncased_L-24_H-1024_A-16.zip\n",
            "fa.txt\t     out.file\n",
            "fra-eng.zip  s2s.h5\n",
            "/bin/bash: line 0: kill: bert-serving-start: arguments must be process or job IDs\n"
          ],
          "name": "stdout"
        }
      ]
    },
    {
      "cell_type": "code",
      "metadata": {
        "id": "Rv8s0fjjxhDQ",
        "colab_type": "code",
        "outputId": "e7b05cbf-b991-4f1f-c5f0-1238a958b43b",
        "colab": {
          "base_uri": "https://localhost:8080/",
          "height": 87
        }
      },
      "source": [
        "from bert_serving.client import BertClient\n",
        "bc = BertClient()\n",
        "print(bc.encode(['First do it', 'then do it right', 'then do it better']).shape)\n"
      ],
      "execution_count": 0,
      "outputs": [
        {
          "output_type": "stream",
          "text": [
            "(3, 6, 1024)\n"
          ],
          "name": "stdout"
        },
        {
          "output_type": "stream",
          "text": [
            "/usr/local/lib/python3.6/dist-packages/bert_serving/client/__init__.py:290: UserWarning: server does not put a restriction on \"max_seq_len\", it will determine \"max_seq_len\" dynamically according to the sequences in the batch. you can restrict the sequence length on the client side for better efficiency\n",
            "  warnings.warn('server does not put a restriction on \"max_seq_len\", '\n"
          ],
          "name": "stderr"
        }
      ]
    },
    {
      "cell_type": "code",
      "metadata": {
        "colab_type": "code",
        "id": "kUKVhOpEDy3G",
        "outputId": "64ed3e99-6ff0-4591-f378-439bbe3299e1",
        "colab": {
          "base_uri": "https://localhost:8080/",
          "height": 87
        }
      },
      "source": [
        "# Use bert to extract the embeddings of \"bat\"s.\n",
        "import numpy as np\n",
        "a = bc.encode(cricket_bat, show_tokens=True)\n",
        "vectors = a[0][0]\n",
        "tokens = a[1][0]\n",
        "cricket_bat_vectors = []\n",
        "for i,token in enumerate(tokens):\n",
        "  if 'bat' in token:\n",
        "    cricket_bat_vectors.append(vectors[i])\n",
        "all_cricket_bat_vectors = cricket_bat_vectors\n",
        "cricket_bat_vectors = np.sum(np.array(cricket_bat_vectors)/len(cricket_bat_vectors),axis=0)\n",
        "print(cricket_bat_vectors.shape)"
      ],
      "execution_count": 0,
      "outputs": [
        {
          "output_type": "stream",
          "text": [
            "/usr/local/lib/python3.6/dist-packages/bert_serving/client/__init__.py:290: UserWarning: server does not put a restriction on \"max_seq_len\", it will determine \"max_seq_len\" dynamically according to the sequences in the batch. you can restrict the sequence length on the client side for better efficiency\n",
            "  warnings.warn('server does not put a restriction on \"max_seq_len\", '\n"
          ],
          "name": "stderr"
        },
        {
          "output_type": "stream",
          "text": [
            "(1024,)\n"
          ],
          "name": "stdout"
        }
      ]
    },
    {
      "cell_type": "code",
      "metadata": {
        "id": "Dii3hA46XVTK",
        "colab_type": "code",
        "outputId": "1f7659b8-58d8-40f0-b893-9c491b13d072",
        "colab": {
          "base_uri": "https://localhost:8080/",
          "height": 87
        }
      },
      "source": [
        "a = bc.encode(vampire_bat, show_tokens=True)\n",
        "import numpy as np\n",
        "vectors = a[0][0]\n",
        "tokens = a[1][0]\n",
        "vampire_bat_vectors = []\n",
        "for i,token in enumerate(tokens):\n",
        "  if 'bat' in token:\n",
        "    vampire_bat_vectors.append(vectors[i])\n",
        "all_vampire_bat_vectors = vampire_bat_vectors\n",
        "vampire_bat_vectors = np.sum(np.array(vampire_bat_vectors)/len(vampire_bat_vectors),axis=0)\n",
        "print(vampire_bat_vectors.shape)"
      ],
      "execution_count": 0,
      "outputs": [
        {
          "output_type": "stream",
          "text": [
            "/usr/local/lib/python3.6/dist-packages/bert_serving/client/__init__.py:290: UserWarning: server does not put a restriction on \"max_seq_len\", it will determine \"max_seq_len\" dynamically according to the sequences in the batch. you can restrict the sequence length on the client side for better efficiency\n",
            "  warnings.warn('server does not put a restriction on \"max_seq_len\", '\n"
          ],
          "name": "stderr"
        },
        {
          "output_type": "stream",
          "text": [
            "(1024,)\n"
          ],
          "name": "stdout"
        }
      ]
    },
    {
      "cell_type": "code",
      "metadata": {
        "id": "nJ3Jef7fYJMH",
        "colab_type": "code",
        "colab": {}
      },
      "source": [
        "from numpy import linalg as LA\n",
        "def check_bat(sentence):\n",
        "  a = bc.encode([sentence], show_tokens=True)\n",
        "  vectors = a[0][0]\n",
        "  tokens = a[1][0]\n",
        "  bat_vectors = []\n",
        "  for i,token in enumerate(tokens):\n",
        "    if 'bat' in token:\n",
        "      bat_vectors.append(vectors[i])\n",
        "  bat_vectors = np.sum(np.array(bat_vectors)/len(bat_vectors),axis=0)\n",
        "  bat_diff_vampire = LA.norm((bat_vectors - vampire_bat_vectors))\n",
        "  bat_diff_cricket = LA.norm((bat_vectors - cricket_bat_vectors))\n",
        "  print(bat_diff_vampire)\n",
        "  print(bat_diff_cricket)\n",
        "  if(bat_diff_cricket > bat_diff_vampire):\n",
        "    return bat_vectors,\"mammal bat\"\n",
        "  else:\n",
        "    return bat_vectors,\"cricket bat\"\n",
        "\n"
      ],
      "execution_count": 0,
      "outputs": []
    },
    {
      "cell_type": "markdown",
      "metadata": {
        "colab_type": "text",
        "id": "TEACvY9JD5m2"
      },
      "source": [
        "Now, you need to find a specific embedding for each sense of the \"bat\". A simple approach is averaging all \"bat\" vectors of each document. Then, you should calculate the distance between the BERT embedding of \"bat\" in our test cases with your document \"bat\"s. \n",
        "\n",
        "Hint: [This](https://docs.scipy.org/doc/numpy-1.13.0/reference/generated/numpy.linalg.norm.html) function may be useful."
      ]
    },
    {
      "cell_type": "code",
      "metadata": {
        "colab_type": "code",
        "id": "spLXPJgoEa-s",
        "outputId": "bf71f515-02bc-481a-a718-fb02a82ca073",
        "colab": {
          "base_uri": "https://localhost:8080/",
          "height": 420
        }
      },
      "source": [
        "test_cases = [\"bats are mammals\",\"bats breed\",\"bats are used to play cricket\", \"which bat has handle?\",\"bats can fly\"]\n",
        "test_labels = [\"mammal bat\",\"mammal bat\",\"cricket bat\",\"cricket bat\",\"mammal bat\"]\n",
        "\n",
        "your_labels = [x[1] for x in list(map(check_bat,test_cases))]\n",
        "test_vector = [x[0] for x in list(map(check_bat,test_cases))]\n",
        " \n",
        "print(your_labels)\n",
        "#fill your labels with the \"bat\" with minimum distance to the test case\n",
        "\n",
        "assert test_labels==your_labels"
      ],
      "execution_count": 0,
      "outputs": [
        {
          "output_type": "stream",
          "text": [
            "/usr/local/lib/python3.6/dist-packages/bert_serving/client/__init__.py:290: UserWarning: server does not put a restriction on \"max_seq_len\", it will determine \"max_seq_len\" dynamically according to the sequences in the batch. you can restrict the sequence length on the client side for better efficiency\n",
            "  warnings.warn('server does not put a restriction on \"max_seq_len\", '\n"
          ],
          "name": "stderr"
        },
        {
          "output_type": "stream",
          "text": [
            "15.54059\n",
            "19.12995\n",
            "21.170086\n",
            "21.637732\n",
            "20.440533\n",
            "16.299915\n",
            "21.35244\n",
            "18.051403\n",
            "18.767963\n",
            "19.884918\n",
            "15.54059\n",
            "19.12995\n",
            "21.170086\n",
            "21.637732\n",
            "20.440533\n",
            "16.299915\n",
            "21.35244\n",
            "18.051403\n",
            "18.767963\n",
            "19.884918\n",
            "['mammal bat', 'mammal bat', 'cricket bat', 'cricket bat', 'mammal bat']\n"
          ],
          "name": "stdout"
        }
      ]
    },
    {
      "cell_type": "markdown",
      "metadata": {
        "colab_type": "text",
        "id": "YirXln2VHDXD"
      },
      "source": [
        "Hmm... It makes sense. Let's see what you produced. You should use [PCA](https://en.wikipedia.org/wiki/Principal_component_analysis) to compress the 768 dimensions of BERT embeddings into just 2 dimensions. Then, use matplotlib to visualize them."
      ]
    },
    {
      "cell_type": "code",
      "metadata": {
        "colab_type": "code",
        "id": "26-SEjdVIxhI",
        "outputId": "829ce7cb-37c4-4ddf-f262-4695995a22c4",
        "colab": {
          "base_uri": "https://localhost:8080/",
          "height": 602
        }
      },
      "source": [
        "import matplotlib.pyplot as plt\n",
        "import numpy as np\n",
        "import pandas as pd\n",
        "from sklearn.decomposition import PCA, TruncatedSVD\n",
        "\n",
        "# make a list of embeddings like this: [ALL_CRICKET_BAT_EMBEDDINGS,ALL_MAMMAL_BAT_EMBEDDINGS,AVERAGE_CRICKET_BAT_EMBEDDING,AVERAGE_MAMMAL_BAT_EMBEDDING,ALL_TEST_BAT_EMBEDDINS]\n",
        "vec_all = all_cricket_bat_vectors+all_vampire_bat_vectors+ [cricket_bat_vectors]+[vampire_bat_vectors]+test_vector\n",
        "print(np.array(vec_all[2]).shape)\n",
        "pca = TruncatedSVD(n_components=2)\n",
        "principalComponents = pca.fit_transform(vec_all)\n",
        "print(pca.explained_variance_ratio_)\n",
        "principalDf = pd.DataFrame(data=principalComponents\n",
        "                           , columns=['principal component 1', 'principal component 2'])\n",
        "print(pca)\n",
        "\n",
        "\n",
        "# make a colors list. use \"b\" for CRICKET_BATs, \"r\" for MAMMAL_BATs\n",
        "colors =[]\n",
        "colors += [\"b\"] * len(all_cricket_bat_vectors)\n",
        "colors += [\"r\"] * len(all_vampire_bat_vectors)\n",
        "print(len(all_cricket_bat_vectors))\n",
        "#extract pc1 and pc2 for document bats\n",
        "pc1_document=principalDf.get('principal component 1').tolist()[:-7]\n",
        "pc2_document=principalDf.get('principal component 2').tolist()[:-7]\n",
        "fig = plt.figure(figsize=(8, 8))\n",
        "ax = fig.add_subplot(1, 1, 1)\n",
        "ax.set_xlabel('Principal Component 1', fontsize=15)\n",
        "ax.set_ylabel('Principal Component 2', fontsize=15)\n",
        "for pc1, pc2, color in zip( pc1_document,pc2_document, colors):\n",
        "    ax.scatter(pc1, pc2, s=50, color=color)\n",
        "ax.legend()\n",
        "ax.grid()\n",
        "plt.show()"
      ],
      "execution_count": 0,
      "outputs": [
        {
          "output_type": "stream",
          "text": [
            "(1024,)\n",
            "[0.016137   0.22427905]\n",
            "TruncatedSVD(algorithm='randomized', n_components=2, n_iter=5,\n",
            "             random_state=None, tol=0.0)\n",
            "16\n"
          ],
          "name": "stdout"
        },
        {
          "output_type": "stream",
          "text": [
            "No handles with labels found to put in legend.\n"
          ],
          "name": "stderr"
        },
        {
          "output_type": "display_data",
          "data": {
            "image/png": "[encoded data removed]",
            "text/plain": [
              "<Figure size 576x576 with 1 Axes>"
            ]
          },
          "metadata": {
            "tags": []
          }
        }
      ]
    },
    {
      "cell_type": "markdown",
      "metadata": {
        "colab_type": "text",
        "id": "eCi9RTNGLCrP"
      },
      "source": [
        "It seems that despite this considerable compression, the clusters are distinguishable. Now, for the last part, visualize the average vectors and the test case vectors."
      ]
    },
    {
      "cell_type": "code",
      "metadata": {
        "colab_type": "code",
        "id": "iNMk9sXAL23l",
        "outputId": "468a3f49-3c8e-4437-b81b-761a93703b2d",
        "colab": {
          "base_uri": "https://localhost:8080/",
          "height": 522
        }
      },
      "source": [
        "#extract pc1 and pc2 for average and test bats\n",
        "pc1_remainings=principalDf.get('principal component 1').tolist()[-7:]\n",
        "pc2_remainings=principalDf.get('principal component 2').tolist()[-7:]\n",
        "\n",
        "colors =[\"b\",\"r\",\"m\",\"m\",\"c\",\"c\",\"m\"]\n",
        "\n",
        "fig = plt.figure(figsize=(8, 8))\n",
        "ax = fig.add_subplot(1, 1, 1)\n",
        "ax.set_xlabel('Principal Component 1', fontsize=15)\n",
        "ax.set_ylabel('Principal Component 2', fontsize=15)\n",
        "for pc1, pc2, color in zip( pc1_remainings,pc2_remainings, colors):\n",
        "    ax.scatter(pc1, pc2, s=50, color=color)\n",
        "ax.legend()\n",
        "ax.grid()\n",
        "plt.show()"
      ],
      "execution_count": 0,
      "outputs": [
        {
          "output_type": "stream",
          "text": [
            "No handles with labels found to put in legend.\n"
          ],
          "name": "stderr"
        },
        {
          "output_type": "display_data",
          "data": {
            "image/png": "[encoded data removed]",
            "text/plain": [
              "<Figure size 576x576 with 1 Axes>"
            ]
          },
          "metadata": {
            "tags": []
          }
        }
      ]
    }
  ]
}